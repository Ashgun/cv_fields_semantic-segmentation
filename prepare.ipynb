{
 "cells": [
  {
   "cell_type": "code",
   "execution_count": 1,
   "metadata": {},
   "outputs": [],
   "source": [
    "import cv2\n",
    "import numpy as np\n",
    "import os, shutil\n",
    "import glob\n",
    "import random\n",
    "from datetime import datetime\n",
    "import tqdm\n",
    "from tqdm import tqdm_notebook as tqdm\n",
    "# from tqdm import tqdm\n",
    "import params"
   ]
  },
  {
   "cell_type": "code",
   "execution_count": 2,
   "metadata": {},
   "outputs": [],
   "source": [
    "random.seed(datetime.now())"
   ]
  },
  {
   "cell_type": "code",
   "execution_count": 3,
   "metadata": {},
   "outputs": [],
   "source": [
    "base_path = params.source_data_path\n",
    "number_of_training_samples = 10000\n",
    "number_of_validation_samples_coeff = 0.2\n",
    "number_of_validation_samples = int(number_of_validation_samples_coeff * number_of_training_samples)"
   ]
  },
  {
   "cell_type": "code",
   "execution_count": 4,
   "metadata": {},
   "outputs": [],
   "source": [
    "origin_imgs = glob.glob(os.path.join(base_path, '*.png'))\n",
    "\n",
    "origin_imgs = [ x for x in origin_imgs if 'mask' not in x]\n",
    "\n",
    "used_imgs = []\n",
    "for x in origin_imgs:\n",
    "    used_imgs.append([x, os.path.splitext(x)[0] + '_mask.png'])"
   ]
  },
  {
   "cell_type": "code",
   "execution_count": 5,
   "metadata": {},
   "outputs": [],
   "source": [
    "training_data_path = params.training_data_path\n",
    "validation_data_path = params.validation_data_path"
   ]
  },
  {
   "cell_type": "code",
   "execution_count": 6,
   "metadata": {},
   "outputs": [],
   "source": [
    "def GenerateSampleIndex(samples_count):\n",
    "    index_max = samples_count\n",
    "    index = random.randint(0, index_max)\n",
    "    return index"
   ]
  },
  {
   "cell_type": "code",
   "execution_count": 7,
   "metadata": {},
   "outputs": [],
   "source": [
    "def EstimateClassPresence(classes_mask, class_num):\n",
    "    masked_image = (classes_mask == class_num + 1)\n",
    "    return sum(sum(masked_image)) / float(classes_mask.shape[0] * classes_mask.shape[1])"
   ]
  },
  {
   "cell_type": "code",
   "execution_count": 8,
   "metadata": {},
   "outputs": [
    {
     "data": {
      "application/vnd.jupyter.widget-view+json": {
       "model_id": "0bd4e7398452409ea2854ae7b6a71a2b",
       "version_major": 2,
       "version_minor": 0
      },
      "text/plain": [
       "HBox(children=(IntProgress(value=0, max=10000), HTML(value='')))"
      ]
     },
     "metadata": {},
     "output_type": "display_data"
    },
    {
     "name": "stdout",
     "output_type": "stream",
     "text": [
      "\n"
     ]
    },
    {
     "data": {
      "application/vnd.jupyter.widget-view+json": {
       "model_id": "425b184d111745d58145a5de653b9cac",
       "version_major": 2,
       "version_minor": 0
      },
      "text/plain": [
       "HBox(children=(IntProgress(value=0, max=2000), HTML(value='')))"
      ]
     },
     "metadata": {},
     "output_type": "display_data"
    },
    {
     "name": "stdout",
     "output_type": "stream",
     "text": [
      "\n"
     ]
    }
   ],
   "source": [
    "def GenerateImage(image, mask, sample_width, sample_height):\n",
    "    height, width, _ = image.shape\n",
    "    if random.randint(0, 100) > 30:        \n",
    "        x_offset = random.randint(0, width - sample_width - 1)\n",
    "        y_offset = random.randint(0, height - sample_height - 1)\n",
    "\n",
    "        sample = image[y_offset:y_offset + sample_height, x_offset:x_offset + sample_width]\n",
    "        sample_mask = mask[y_offset:y_offset + sample_height, x_offset:x_offset + sample_width]\n",
    "    else:\n",
    "        iters = 0\n",
    "        while True:\n",
    "            x_offset = random.randint(0, width - sample_width - 1)\n",
    "            y_offset = random.randint(0, height - sample_height - 1)\n",
    "\n",
    "            sample = image[y_offset:y_offset + sample_height, x_offset:x_offset + sample_width]\n",
    "            sample_mask = mask[y_offset:y_offset + sample_height, x_offset:x_offset + sample_width] \n",
    "            \n",
    "            if EstimateClassPresence(sample_mask, 2) > 0.2 or iters > 100:\n",
    "                break\n",
    "                \n",
    "            iters += 1\n",
    "                \n",
    "#             print('* ',EstimateClassPresence(sample_mask, 2))\n",
    "    \n",
    "#     print(EstimateClassPresence(sample_mask, 2))\n",
    "    \n",
    "    angles = [0, 90, 180, 270]\n",
    "    angle = random.choice(angles)\n",
    "    if angle > 0:\n",
    "        for i in range(int(angle / 90)):\n",
    "            sample = np.rot90(sample)\n",
    "            sample_mask = np.rot90(sample_mask)\n",
    "    \n",
    "    return [sample, sample_mask]\n",
    "    \n",
    "def GenerateImageFile(image_fn, mask_fn, sample_image_fn, sample_mask_fn, sample_width, sample_height):\n",
    "    image = cv2.imread(image_fn)\n",
    "    mask = cv2.imread(mask_fn, cv2.IMREAD_GRAYSCALE)\n",
    "    \n",
    "    [sample, sample_mask] = GenerateImage(image, mask, sample_width, sample_height)\n",
    "    \n",
    "    cv2.imwrite(sample_image_fn, sample)\n",
    "    cv2.imwrite(sample_mask_fn, sample_mask)\n",
    "    \n",
    "def GenerateImageFiles(used_files, target_dir, required_images_cnt, sample_width, sample_height):\n",
    "    result_files = []\n",
    "    for i in tqdm(range(required_images_cnt)):\n",
    "        used_files_pair_index = random.randint(0, len(used_files) - 1)\n",
    "        image_fn, mask_fn = used_files[used_files_pair_index]\n",
    "        \n",
    "        result_sample_fn = os.path.join(target_dir, 'sample_{}.png'.format(len(result_files)))\n",
    "        result_sample_mask_fn = os.path.join(target_dir, 'sample_{}_mask.png'.format(len(result_files)))\n",
    "        \n",
    "        GenerateImageFile(image_fn, mask_fn, result_sample_fn, result_sample_mask_fn, sample_width, sample_height)\n",
    "        \n",
    "        result_files.append([result_sample_fn, result_sample_mask_fn])\n",
    "    return result_files\n",
    "\n",
    "if os.path.exists(training_data_path):\n",
    "    shutil.rmtree(training_data_path)\n",
    "os.makedirs(training_data_path)\n",
    "\n",
    "if os.path.exists(validation_data_path):\n",
    "    shutil.rmtree(validation_data_path)\n",
    "os.makedirs(validation_data_path)\n",
    "\n",
    "training_samples = GenerateImageFiles(used_imgs, training_data_path, number_of_training_samples, params.GetImageSize(), params.GetImageSize())\n",
    "validation_samples = GenerateImageFiles(used_imgs, validation_data_path, number_of_validation_samples, params.GetImageSize(), params.GetImageSize())\n",
    "    \n"
   ]
  },
  {
   "cell_type": "code",
   "execution_count": 9,
   "metadata": {},
   "outputs": [
    {
     "data": {
      "text/plain": [
       "256"
      ]
     },
     "execution_count": 9,
     "metadata": {},
     "output_type": "execute_result"
    }
   ],
   "source": [
    "params.GetImageSize()"
   ]
  }
 ],
 "metadata": {
  "kernelspec": {
   "display_name": "Python 3",
   "language": "python",
   "name": "python3"
  },
  "language_info": {
   "codemirror_mode": {
    "name": "ipython",
    "version": 3
   },
   "file_extension": ".py",
   "mimetype": "text/x-python",
   "name": "python",
   "nbconvert_exporter": "python",
   "pygments_lexer": "ipython3",
   "version": "3.7.3"
  }
 },
 "nbformat": 4,
 "nbformat_minor": 2
}
