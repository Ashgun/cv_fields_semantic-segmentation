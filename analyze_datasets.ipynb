{
 "cells": [
  {
   "cell_type": "code",
   "execution_count": 1,
   "metadata": {},
   "outputs": [],
   "source": [
    "import params\n",
    "import dataset\n",
    "\n",
    "import cv2\n",
    "import numpy as np\n",
    "\n",
    "import tqdm\n",
    "from tqdm import tqdm_notebook as tqdm\n",
    "\n",
    "import json\n",
    "\n",
    "import matplotlib.pyplot as plt"
   ]
  },
  {
   "cell_type": "code",
   "execution_count": 2,
   "metadata": {},
   "outputs": [],
   "source": [
    "def read_image_and_mask(img_name, mask_name):\n",
    "    img = cv2.imread(img_name, cv2.IMREAD_COLOR)\n",
    "    mask = cv2.imread(mask_name, cv2.IMREAD_GRAYSCALE)\n",
    "    \n",
    "    img = cv2.resize(img, (params.GetImageSize(), params.GetImageSize()))\n",
    "    mask = cv2.resize(mask, (params.GetImageSize(), params.GetImageSize()))  \n",
    "    \n",
    "#     height, width = mask.shape\n",
    "#     class_masks = np.zeros((height, width, params.GetClassesCount()))\n",
    "#     for i in range(class_masks.shape[2]):\n",
    "#         class_masks[:, :, i] = (mask == (i + 1))\n",
    "    \n",
    "    return img, mask"
   ]
  },
  {
   "cell_type": "code",
   "execution_count": 3,
   "metadata": {},
   "outputs": [],
   "source": [
    "average_image = np.zeros((params.GetImageSize(), params.GetImageSize(), 3)).astype(np.float32)\n",
    "classes_counts = np.zeros((params.GetClassesCount())).astype(np.float32)"
   ]
  },
  {
   "cell_type": "code",
   "execution_count": 4,
   "metadata": {},
   "outputs": [
    {
     "data": {
      "application/vnd.jupyter.widget-view+json": {
       "model_id": "0fa906958df142fabb732a531e7cb658",
       "version_major": 2,
       "version_minor": 0
      },
      "text/plain": [
       "HBox(children=(IntProgress(value=0, max=2000), HTML(value=u'')))"
      ]
     },
     "metadata": {},
     "output_type": "display_data"
    },
    {
     "name": "stdout",
     "output_type": "stream",
     "text": [
      "\n"
     ]
    }
   ],
   "source": [
    "files, masks = dataset.read_data_set(params.validation_data_path)\n",
    "\n",
    "all_files = zip(files, masks)\n",
    "\n",
    "validation_files_cnt = len(all_files)\n",
    "\n",
    "for ind in tqdm(range(validation_files_cnt)):\n",
    "    img_name, mask_name = all_files[ind]\n",
    "    img, mask = read_image_and_mask(img_name, mask_name)\n",
    "    \n",
    "    average_image = average_image + img\n",
    "    for i in range(params.GetClassesCount()):\n",
    "        classes_counts[i] = classes_counts[i] + np.sum(mask == (i + 1))"
   ]
  },
  {
   "cell_type": "code",
   "execution_count": 5,
   "metadata": {},
   "outputs": [
    {
     "data": {
      "application/vnd.jupyter.widget-view+json": {
       "model_id": "f5f9866f06b948d8b39526d71afae79b",
       "version_major": 2,
       "version_minor": 0
      },
      "text/plain": [
       "HBox(children=(IntProgress(value=0, max=10000), HTML(value=u'')))"
      ]
     },
     "metadata": {},
     "output_type": "display_data"
    },
    {
     "name": "stdout",
     "output_type": "stream",
     "text": [
      "\n"
     ]
    }
   ],
   "source": [
    "files, masks = dataset.read_data_set(params.training_data_path)\n",
    "\n",
    "all_files = zip(files, masks)\n",
    "\n",
    "training_files_cnt = len(all_files)\n",
    "\n",
    "for ind in tqdm(range(training_files_cnt)):\n",
    "    img_name, mask_name = all_files[ind]\n",
    "    img, mask = read_image_and_mask(img_name, mask_name)\n",
    "    \n",
    "    average_image = average_image + img\n",
    "    for i in range(params.GetClassesCount()):\n",
    "        classes_counts[i] = classes_counts[i] + np.sum(mask == (i + 1))"
   ]
  },
  {
   "cell_type": "code",
   "execution_count": 6,
   "metadata": {},
   "outputs": [],
   "source": [
    "average_image = (average_image / float(training_files_cnt + validation_files_cnt)).astype(np.uint8)\n",
    "classes_counts_sum = np.sum(classes_counts)\n",
    "classes_weights = 1.0 - classes_counts / classes_counts_sum"
   ]
  },
  {
   "cell_type": "code",
   "execution_count": 7,
   "metadata": {
    "scrolled": true
   },
   "outputs": [
    {
     "data": {
      "text/plain": [
       "(array([1.033189e+08, 6.115082e+08, 6.731249e+07, 4.272151e+06],\n",
       "       dtype=float32),\n",
       " array([0.86861986, 0.2224071 , 0.9144055 , 0.9945675 ], dtype=float32),\n",
       " 786411800.0,\n",
       " array([0.13138016, 0.7775929 , 0.08559445, 0.00543246], dtype=float32))"
      ]
     },
     "execution_count": 7,
     "metadata": {},
     "output_type": "execute_result"
    }
   ],
   "source": [
    "classes_counts, classes_weights, classes_counts_sum, classes_counts / classes_counts_sum"
   ]
  },
  {
   "cell_type": "code",
   "execution_count": 8,
   "metadata": {},
   "outputs": [
    {
     "data": {
      "text/plain": [
       "True"
      ]
     },
     "execution_count": 8,
     "metadata": {},
     "output_type": "execute_result"
    }
   ],
   "source": [
    "cv2.imwrite(params.average_image, average_image)"
   ]
  },
  {
   "cell_type": "code",
   "execution_count": 9,
   "metadata": {},
   "outputs": [],
   "source": [
    "data_stats = {\n",
    "    \"classes_weights\": classes_weights.tolist()\n",
    "}\n",
    "data_file = open(params.data_info_file, \"w\")\n",
    "# magic happens here to make it pretty-printed\n",
    "json.dump(data_stats, data_file, indent=4, sort_keys=True)\n",
    "data_file.close()"
   ]
  }
 ],
 "metadata": {
  "kernelspec": {
   "display_name": "Python 2",
   "language": "python",
   "name": "python2"
  },
  "language_info": {
   "codemirror_mode": {
    "name": "ipython",
    "version": 2
   },
   "file_extension": ".py",
   "mimetype": "text/x-python",
   "name": "python",
   "nbconvert_exporter": "python",
   "pygments_lexer": "ipython2",
   "version": "2.7.15"
  }
 },
 "nbformat": 4,
 "nbformat_minor": 2
}
