{
 "cells": [
  {
   "cell_type": "code",
   "execution_count": 1,
   "metadata": {},
   "outputs": [],
   "source": [
    "def GetImageSize():\n",
    "    return 256\n",
    "\n",
    "def GetChannelsNum():\n",
    "    return 3;\n",
    "\n",
    "def GetClasses():\n",
    "    return ['resources']\n",
    "\n",
    "def GetClassesCount():\n",
    "    return len(GetClasses())\n",
    "\n",
    "def GetModelName():\n",
    "    return 'ui_elements_detection_' + str(GetImageSize())\n",
    "\n",
    "def GetNumIteration():\n",
    "    return 6\n",
    "\n",
    "def GetDataDirectory():\n",
    "    return './'\n",
    "\n",
    "source_data_path = GetDataDirectory() + '/src_imgs/'\n",
    "training_data_path = GetDataDirectory() + '/training/'\n",
    "validation_data_path = GetDataDirectory() + '/validation/'"
   ]
  }
 ],
 "metadata": {
  "kernelspec": {
   "display_name": "Python 2",
   "language": "python",
   "name": "python2"
  },
  "language_info": {
   "codemirror_mode": {
    "name": "ipython",
    "version": 2
   },
   "file_extension": ".py",
   "mimetype": "text/x-python",
   "name": "python",
   "nbconvert_exporter": "python",
   "pygments_lexer": "ipython2",
   "version": "2.7.15"
  }
 },
 "nbformat": 4,
 "nbformat_minor": 2
}
